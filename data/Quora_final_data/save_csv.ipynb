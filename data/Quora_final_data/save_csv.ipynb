{
 "cells": [
  {
   "cell_type": "code",
   "execution_count": 10,
   "id": "5dbbf1df-1504-4768-a274-b608e9f88892",
   "metadata": {},
   "outputs": [],
   "source": [
    "import pickle\n",
    "import pandas as pd\n"
   ]
  },
  {
   "cell_type": "code",
   "execution_count": 32,
   "id": "912dfbfb-12b4-4d68-a3c1-224cc138152b",
   "metadata": {},
   "outputs": [],
   "source": [
    "with open('sorted_df.pkl', 'rb') as f : \n",
    "    df = pickle.load(f)"
   ]
  },
  {
   "cell_type": "code",
   "execution_count": 33,
   "id": "6bc22e0b-a3cc-42cb-8e96-b7457a5c64ca",
   "metadata": {},
   "outputs": [],
   "source": [
    "new_df = df.loc[:,['date','answers']]"
   ]
  },
  {
   "cell_type": "code",
   "execution_count": 34,
   "id": "faa62dd1-bff8-4e82-a39b-6d9b07fb4441",
   "metadata": {},
   "outputs": [],
   "source": [
    "new_df = new_df[new_df['date'] > '2020-12-18']"
   ]
  },
  {
   "cell_type": "code",
   "execution_count": 35,
   "id": "5f78a31f-aeaa-48f3-8f6e-757896dd6aba",
   "metadata": {},
   "outputs": [],
   "source": [
    "new_df = new_df.reset_index(drop= True)"
   ]
  },
  {
   "cell_type": "code",
   "execution_count": 37,
   "id": "66a26249-cc30-4727-bb8c-4683f977030e",
   "metadata": {},
   "outputs": [],
   "source": [
    "new_df.to_csv('sorted_df.csv', index= False)"
   ]
  },
  {
   "cell_type": "code",
   "execution_count": 44,
   "id": "f06c4412-b186-4764-af3a-ca27da2668bd",
   "metadata": {},
   "outputs": [],
   "source": [
    "ans = new_df['answers']\n",
    "\n",
    "safe = [ sent for sent in ans if 'safe' in sent]"
   ]
  },
  {
   "cell_type": "code",
   "execution_count": 45,
   "id": "be40f2ae-404c-4be3-8379-386b8c91b35a",
   "metadata": {},
   "outputs": [
    {
     "data": {
      "text/plain": [
       "[]"
      ]
     },
     "execution_count": 45,
     "metadata": {},
     "output_type": "execute_result"
    }
   ],
   "source": [
    "safe"
   ]
  },
  {
   "cell_type": "code",
   "execution_count": 47,
   "id": "3b07ffba-210b-44aa-b8c2-5b029c0f2bf6",
   "metadata": {},
   "outputs": [
    {
     "data": {
      "text/plain": [
       "['Because\\nThe Oxford/AstraZeneca vaccine has been proven to be at least 70% effective, and up to 90% for two properly administered doses, so someone is lying to you.\\nThe Oxford/AstraZeneca vaccine can be stored in fridges, while the two currently approved vaccines need storage at -20C and -70C, respectively, making transport and storage difficult.\\nThe Oxford/AstraZeneca vaccine will cost about $3 per dose, as opposed to the $10 to $20 for the two currently approved vaccines.\\nThree vaccine factories can work faster than two, and end the pandemic faster.\\nWe don’t know whether the existing or upcoming vaccines are going to be efficient against new strains of Covid-19… but people who evaluate those things for a living say that they are overwhelmingly likely to be, and in case they aren’t, it’ll take six weeks, tops, to fix them.',\n",
       " 'You can’t use what you don’t have.\\nThere is a clamour for these vaccines, and some countries (including the UK) prudently advance ordered various vaccines at a time when we didn’t know which would work and which would not. For better or worse the UK placed its biggest bests on the AstraZeneca vaccine. Maybe with hindsight they wished they had placed the bigger bets on Pfizer, but there are no do-overs in real life. If they want more Pfizer vaccine now, they have to join the back of the queue. They can console themselves that they are miles ahead of those countries which chose not to advance purchaser vaccines before they had been developed at all.\\nFor completeness, I should also point out that your figure of 60% doesn’t really stand up. In the trials, different dosages produced different levels of protection. By tailoring the dosage to the optimum amount, this increases to 91%. Not quite as good as Pfizer, but close enough for Government work.',\n",
       " \"There is another very important factor to consider.\\nIf you can vaccinate a significant proportion of the population, eg 30%, with a 60% effective vaccine, then what would previously have been a 1.2 R factor (where on average 10 infected people will infect 12 more) will become a 0.86 R factor, and that means falling infection rates.\\nIndividuals don't particularly care about the infection rate, as individually we either get it or don't, but large populations need to care because high infection rates can result in the health services being overwhelmed with cases.\\n(Despite the obvious downside of large numbers of people dying, from a practical point of view deaths are less of a problem, because a dead person needs no treatment, and so doesn't strain the health services - but large numbers of ill people are much harder to handle.\",\n",
       " 'Because:\\nThe Oxford/ AZ vaccine has been shown to be over 90% effective with two doses. The 60% figure came from the fact Oxford released various sets of trial data, including different size doses, and anti vaccine idiots latch onto the lowest effectiveness, despite the fact that won’t be the treatment regime used.\\nThere are multiple strains of Covid out there- thousands of them- and no reason to think the vaccines will be less effective against them.\\nNot vaccinating people is definitely 100% ineffective, so even if the current round of vaccines don’t provide perfect protection, they’re a great deal better than the alternative of nothing.',\n",
       " 'I’m confused by other answers, no one seems has actually read the report - simply put, if they have enough doses from other vaccines there is absolutely no reason to use Oxford vaccines now.\\nBecause how the Oxford vaccine selected volunteers - they have not included people over 59 in the trial. The dose amount was not the key factor affecting the effect rate between 70% / 90% but the 90% group has no participants over 59 years old. The report has not given detailed number on how many elder people were included in the 70% result group but it is not optimistic at all and may even fall below the 50% pass line among elder people.\\nBut the UK’s plan is to vaccine elder people first. If they use the Oxford vaccine on young people to ensure they can work than that’s perfectly fine but it doesn’t seem like the case.\\nI honestly don’t know what the UK government is thinking.\\nps. I don’t like how answers / the questioner just pick their side first and try finding evidences to support. There is 0 people under this whole section who has actually read the fucking report. Pathetic.',\n",
       " 'Let us break down your question, shall we?\\nNot been proven.\\nOver 60% protection.\\nSo what you are saying is that it is better to have NOTHING than something? Because of the ABSENCE of “proof”?\\nI just read that the Pfizer vaccine, the supposed “most effective” one, is not as effective as the Astra Zeneca vaccine in some contexts.\\nThe UK government paid for THREE vaccines, and is currently using two of them, as NEEDED to do two things.\\nProtect the vulnerable.\\nPromote herd immunity.\\nAnd Astra-Zeneca, probably upset at the UNFAIR bad press, have already said they are working to make it more effective, especially with the newer mutations, that the Pfizer one seems to have more problems with.\\nOthers have already pointed out that you are not describing the truth. I just thought I would criticise your interpretation of your implicit lies.',\n",
       " '61% (I doubt your numbers are accurate) effectives of a vaccine now, far outstrips the alternative of no vaccine with it’s inherent 0% effectiveness.\\n60% effectiveness reduced cases by 60%, not bad as a starting position.\\nThat will reduce transmissions by 60%, see where this is going.\\n60% less virus replication is 60% less mutations, reducing the probability of a serological mutation by? you guessed it 60%.\\nThe alternative is to wait months for a vaccine that might come along with a better than 60% score. Meanwhile back at the ranch, people are dropping dead, ICU is packed out and a trolley in the corridor is no way to die.\\nI’ll take your 60% bet and once 60% immune, might with a 60% greater probability still be alive for when the new and improved super vaccine is announced. Ta.',\n",
       " 'The flaw in the reasoning here is that overall eficacy doesn’t matter as much as efficacy against severe illness. In fact, with a disease that has a low death rate (3% rather than 30% (smallpox) or >50% (ebola)) that figure is more important. Efficacy from a vaccine trial stand point means negative tests for all participants, not staying alive or out of hospital.\\nThe goal isn’t immediate eradication, it’s reopening society. Problems like poverty and education damage are also very serious and deadly in their own right and the quicker people can get back to normal society the better.\\nAll of the currently available vaccines have shown exceptional protection against severe illness. In fact, they reduce severe disease and death to near zero, rendering covid-19 a less serious problem than seasonal flu.\\nAs for new strains, there’s been a small study that seems to show the Ox/AZ vaccine doesn’t stop mild and moderate illness from one variant, the SA one. There is no current evidence to suggest that it doesn’t protect well against severe illness caused by any known strain.\\nSo for a first wave of vaccination, putting a cheap, simple to transport, locally produced and very effective vaccine through the population is a shrewd move.',\n",
       " 'The AstraZeneca vaccine provides over 90% protection, not 60%.\\nIt is also easier to distribute.\\nExisting vaccines should be effective against the new variant (not a new strain - there’s a difference) of Coronavirus - this is already understood and has been for some weeks. There is absolutely no reason, therefore to stop the vaccination programme, and certainly no reason to hold back on the rollout of the AstraZeneca vaccine, approval of which is just around the corner and 100 million doeses pre-ordered.',\n",
       " 'Utter nonsense, codswallop, I am 73 and have been, along with many others in my cohort, part of the Oxford Trial for more than 3 months\\nSadly this world is full of very silly people who pontificate without doing the most basic research.\\nThe Oxford Vaccine’s effectiveness is in the 90% range, it needs no special arrangements for transport, storage or administration and can be delivered to the most remote tropical, mountain or island village by the standard methods used in every country in the world with the possible exception of parts of Pakistan, Afghanistan and Northern Nigeria where certain ideologues seek to prevent the people benefiting from modern medicine as a method of control - very sad',\n",
       " 'The main advantage of the Oxford vaccine is that we have a very significant supply, and an effective supply chain. We even built a filling and finishing plant over the Summer. The data is rather stronger than it seems at first sight and it examines the difference made by having a longer gap between dose 1 and 2 (in this case it increases efficacy) and right now we need that dose gap to minimise mortality . The data supporting decreased morbidity particularly in older populations is significant. We are just about to have some very large scale data coming in which will either support or refute this we are now vaccinating at increasing speed in a population with high rates of infection. More or less leaving other major countries far behind it looks like we are on target to vaccinate the overwhelming majority of 55 years plus and vulnerable populations before mid February.\\nMy instinct on this is that we will be going back with second vaccines for some populations as the evidence unfolds which will be another year at least.\\nThe Oxford vaccine is a vaccine for the world, not for profit nor political gain, affordable and being produced world wide, easily kept in storage and remarkably few allergic reactions, thus far it is the only vaccine to be approved for home use.',\n",
       " \"From what I've read there are 3 points\\n1: Astra Zeneca has the largest production facilities\\n2: Their pretest of the vaccine was flawed as many preliminary doses were only half strength, but after a second dose it was over 90% effective.\\n3: The speed with which they can deliver and the cost of distribution as it doesn't need to be stored at -70C.\",\n",
       " 'Apparently it has. Even before the change in doses which make it more effective it was delivering well over 60%, that better than most annual flue jabs. As for the new strain, the conventional wisdom is that they don’t think it’s likely to be significantly different enough to make it ineffective. We can’t do anything about it, so we will have to wait and see.',\n",
       " 'I suppose it might be because the UK has a different definition of ‘effective’ to the AMericans and the Germans. Nobody in any of the AstraZenica vaccinated people became ill enough to need hospitalisation. As far as I’m concerned that makes it OK.\\nIf we wait until someone runs a double blind test for the new strain before we do anything, some will die from the ol and the new, and by then there is likely to be another strain. - In which case, you might just as well not bother with a vaccine at all.',\n",
       " \"I'm not sure.\\nTheir choice was most likely determined by their virologists\\nand maybe the best vaccine for their country.\\nI cannot say at this point which vaccine is best and the most effective\\nbut the Pfizer vaccines was giving allergic reactions in UK\\nso maybe they switched vaccines\",\n",
       " 'It was found out by accident that the AstraZeneca vaccine can be made 90% effective. As far as worldwide vaccination is concerned, its great advantage is that it doesn’t have to be stored at ultra low temperatures.',\n",
       " 'What’s so wrong with 60%? I read the flu vaccines we jam into millions of arms has about the same ‘success’ rate (yet we find it worthwhile rolling that out every year).\\nlatest data does suggest this figure will prove to be rather on the ‘conservative’ side for AstraZeneca’s Covid vaccine in any case - but we must wait longer to see.\\nI would suggest meanwhile that 60% of ‘something’ remains a better option than 100 % of ‘nothing’ when it comes down to vaccinating the British population against covid 19 (and I am one of them).']"
      ]
     },
     "execution_count": 47,
     "metadata": {},
     "output_type": "execute_result"
    }
   ],
   "source": [
    "ans[0]"
   ]
  },
  {
   "cell_type": "code",
   "execution_count": null,
   "id": "d390de5b-8349-499c-bac2-483de33e853e",
   "metadata": {},
   "outputs": [],
   "source": []
  }
 ],
 "metadata": {
  "kernelspec": {
   "display_name": "Python 3 (ipykernel)",
   "language": "python",
   "name": "python3"
  },
  "language_info": {
   "codemirror_mode": {
    "name": "ipython",
    "version": 3
   },
   "file_extension": ".py",
   "mimetype": "text/x-python",
   "name": "python",
   "nbconvert_exporter": "python",
   "pygments_lexer": "ipython3",
   "version": "3.8.5"
  }
 },
 "nbformat": 4,
 "nbformat_minor": 5
}
